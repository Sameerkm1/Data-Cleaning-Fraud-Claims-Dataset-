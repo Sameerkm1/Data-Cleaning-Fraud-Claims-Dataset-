{
 "cells": [
  {
   "cell_type": "markdown",
   "id": "51cd38df",
   "metadata": {},
   "source": [
    "# Data Cleaning:- \n",
    "### Aim: To find and handle incorrect data.\n",
    "##### Incorrect data are one of the major factor causing obstruction in creating a model. So I am exploring incorrect data, understanding them and will find solutions to handle them."
   ]
  },
  {
   "cell_type": "markdown",
   "id": "470f8a3a",
   "metadata": {},
   "source": [
    "## <font color='green'>1. Loading Dataset</font>"
   ]
  },
  {
   "cell_type": "code",
   "execution_count": 1,
   "id": "d23837bf",
   "metadata": {},
   "outputs": [],
   "source": [
    "import pandas as pd\n",
    "import numpy as np\n",
    "import seaborn as sns\n",
    "import matplotlib.pyplot as plt"
   ]
  },
  {
   "cell_type": "code",
   "execution_count": 2,
   "id": "0e130ade",
   "metadata": {},
   "outputs": [],
   "source": [
    "missingvalues=[\"N/a\", \"na\", np.nan] #to define missing values list\n",
    "df =pd.read_csv(r'C:\\Users\\Fraud_Claim_training_data.csv', na_values=missingvalues)"
   ]
  },
  {
   "cell_type": "code",
   "execution_count": 3,
   "id": "e08f38bc",
   "metadata": {},
   "outputs": [
    {
     "name": "stdout",
     "output_type": "stream",
     "text": [
      "       claim_number  age_of_driver gender  marital_status  safty_rating  \\\n",
      "0                 1             46      M             1.0            85   \n",
      "1                 3             21      F             0.0            75   \n",
      "2                 4             49      F             0.0            87   \n",
      "3                 5             58      F             1.0            58   \n",
      "4                 6             38      M             1.0            95   \n",
      "...             ...            ...    ...             ...           ...   \n",
      "17993         29993             69      M             1.0            93   \n",
      "17994         29996             35      F             0.0            22   \n",
      "17995         29997             27      F             1.0            81   \n",
      "17996         29999             52      F             1.0            86   \n",
      "17997         30000             61      F             0.0            60   \n",
      "\n",
      "       annual_income  high_education_ind  address_change_ind living_status  \\\n",
      "0              38301                   1                   1          Rent   \n",
      "1              30445                   0                   1          Rent   \n",
      "2              38923                   0                   1           Own   \n",
      "3              40605                   1                   0           Own   \n",
      "4              36380                   1                   0          Rent   \n",
      "...              ...                 ...                 ...           ...   \n",
      "17993          42338                   1                   0           Own   \n",
      "17994          35579                   1                   1           Own   \n",
      "17995          32953                   0                   1          Rent   \n",
      "17996          39519                   1                   0           Own   \n",
      "17997          41126                   1                   0          Rent   \n",
      "\n",
      "       zip_code  ... liab_prct channel policy_report_filed_ind  \\\n",
      "0         80006  ...        74  Broker                       0   \n",
      "1         15021  ...        79  Online                       0   \n",
      "2         20158  ...         0  Broker                       0   \n",
      "3         15024  ...        99  Broker                       1   \n",
      "4         50034  ...         7  Broker                       0   \n",
      "...         ...  ...       ...     ...                     ...   \n",
      "17993     15012  ...        99  Broker                       0   \n",
      "17994     20111  ...        94   Phone                       1   \n",
      "17995     15012  ...         1  Online                       1   \n",
      "17996     15026  ...        75  Broker                       1   \n",
      "17997     50001  ...        35   Phone                       0   \n",
      "\n",
      "       claim_est_payout  age_of_vehicle  vehicle_category vehicle_price  \\\n",
      "0           7530.940993               9           Compact  12885.452350   \n",
      "1           2966.024895               4             Large  29429.452180   \n",
      "2           6283.888333               3           Compact  21701.181950   \n",
      "3           6169.747994               4            Medium  13198.273440   \n",
      "4           4541.387150               7            Medium  38060.211220   \n",
      "...                 ...             ...               ...           ...   \n",
      "17993       4806.841803               6            Medium  32144.571850   \n",
      "17994       4089.794471               3            Medium   9468.510601   \n",
      "17995       2225.803056               5            Medium  64974.369590   \n",
      "17996       9560.744844               3           Compact  24983.268110   \n",
      "17997       5166.915270               5            Medium  19295.970480   \n",
      "\n",
      "       vehicle_color  vehicle_weight  fraud  \n",
      "0              white     16161.33381      0  \n",
      "1              white     28691.96422      0  \n",
      "2              white     22090.94758      1  \n",
      "3              other     38329.58106      1  \n",
      "4               gray     25876.56319      0  \n",
      "...              ...             ...    ...  \n",
      "17993          black     16868.53410      0  \n",
      "17994           blue     31500.99689      1  \n",
      "17995          black     44536.25506      0  \n",
      "17996          white     50093.75959      0  \n",
      "17997           blue     15257.21450      0  \n",
      "\n",
      "[17998 rows x 25 columns]\n"
     ]
    }
   ],
   "source": [
    "print(df)"
   ]
  },
  {
   "cell_type": "code",
   "execution_count": 4,
   "id": "ea22b59e",
   "metadata": {},
   "outputs": [
    {
     "name": "stdout",
     "output_type": "stream",
     "text": [
      "<class 'pandas.core.frame.DataFrame'>\n",
      "RangeIndex: 17998 entries, 0 to 17997\n",
      "Data columns (total 25 columns):\n",
      " #   Column                   Non-Null Count  Dtype  \n",
      "---  ------                   --------------  -----  \n",
      " 0   claim_number             17998 non-null  int64  \n",
      " 1   age_of_driver            17998 non-null  int64  \n",
      " 2   gender                   17998 non-null  object \n",
      " 3   marital_status           17993 non-null  float64\n",
      " 4   safty_rating             17998 non-null  int64  \n",
      " 5   annual_income            17998 non-null  int64  \n",
      " 6   high_education_ind       17998 non-null  int64  \n",
      " 7   address_change_ind       17998 non-null  int64  \n",
      " 8   living_status            17998 non-null  object \n",
      " 9   zip_code                 17998 non-null  int64  \n",
      " 10  claim_date               17998 non-null  object \n",
      " 11  claim_day_of_week        17998 non-null  object \n",
      " 12  accident_site            17998 non-null  object \n",
      " 13  past_num_of_claims       17998 non-null  int64  \n",
      " 14  witness_present_ind      17866 non-null  float64\n",
      " 15  liab_prct                17998 non-null  int64  \n",
      " 16  channel                  17998 non-null  object \n",
      " 17  policy_report_filed_ind  17998 non-null  int64  \n",
      " 18  claim_est_payout         17981 non-null  float64\n",
      " 19  age_of_vehicle           17998 non-null  int64  \n",
      " 20  vehicle_category         17998 non-null  object \n",
      " 21  vehicle_price            17998 non-null  float64\n",
      " 22  vehicle_color            17998 non-null  object \n",
      " 23  vehicle_weight           17998 non-null  float64\n",
      " 24  fraud                    17998 non-null  int64  \n",
      "dtypes: float64(5), int64(12), object(8)\n",
      "memory usage: 3.4+ MB\n"
     ]
    }
   ],
   "source": [
    "df.info()"
   ]
  },
  {
   "cell_type": "code",
   "execution_count": 5,
   "id": "c7acbf40",
   "metadata": {},
   "outputs": [
    {
     "name": "stdout",
     "output_type": "stream",
     "text": [
      "Statistics summary of numerical variables :- \n",
      "        claim_number  age_of_driver  marital_status  safty_rating  \\\n",
      "count  17998.000000   17998.000000    17993.000000  17998.000000   \n",
      "mean   14970.601622      43.695466        0.712722     73.562951   \n",
      "std     8659.940765      11.959819        0.452505     15.346807   \n",
      "min        1.000000      18.000000        0.000000      1.000000   \n",
      "25%     7479.250000      35.000000        0.000000     65.000000   \n",
      "50%    14965.500000      43.000000        1.000000     76.000000   \n",
      "75%    22467.750000      51.000000        1.000000     85.000000   \n",
      "max    30000.000000     229.000000        1.000000    100.000000   \n",
      "\n",
      "       annual_income  high_education_ind  address_change_ind      zip_code  \\\n",
      "count   17998.000000        17998.000000        17998.000000  17998.000000   \n",
      "mean    37367.655684            0.699189            0.577286  49894.766030   \n",
      "std      2957.297249            0.458623            0.494004  29186.828369   \n",
      "min        -1.000000            0.000000            0.000000  15001.000000   \n",
      "25%     35554.000000            0.000000            0.000000  20111.000000   \n",
      "50%     37610.000000            1.000000            1.000000  50028.000000   \n",
      "75%     39318.000000            1.000000            1.000000  80038.000000   \n",
      "max     54333.000000            1.000000            1.000000  85083.000000   \n",
      "\n",
      "       past_num_of_claims  witness_present_ind     liab_prct  \\\n",
      "count        17998.000000         17866.000000  17998.000000   \n",
      "mean             0.505001             0.232677     49.423269   \n",
      "std              0.955504             0.422550     33.678470   \n",
      "min              0.000000             0.000000      0.000000   \n",
      "25%              0.000000             0.000000     17.000000   \n",
      "50%              0.000000             0.000000     50.000000   \n",
      "75%              1.000000             0.000000     81.000000   \n",
      "max              6.000000             1.000000    100.000000   \n",
      "\n",
      "       policy_report_filed_ind  claim_est_payout  age_of_vehicle  \\\n",
      "count             17998.000000      17981.000000    17998.000000   \n",
      "mean                  0.600678       4975.792083        5.034504   \n",
      "std                   0.489773       2215.706510        2.221716   \n",
      "min                   0.000000        282.639432        1.000000   \n",
      "25%                   0.000000       3337.029436        3.000000   \n",
      "50%                   1.000000       4668.796318        5.000000   \n",
      "75%                   1.000000       6255.901066        6.000000   \n",
      "max                   1.000000      17218.345010       16.000000   \n",
      "\n",
      "       vehicle_price  vehicle_weight         fraud  \n",
      "count   17998.000000    17998.000000  17998.000000  \n",
      "mean    23089.123114    23031.322385      0.156462  \n",
      "std     11988.429767    12052.385584      0.363303  \n",
      "min      2457.329316     2429.429302      0.000000  \n",
      "25%     14279.574850    14164.122133      0.000000  \n",
      "50%     20948.879250    20838.150260      0.000000  \n",
      "75%     29562.232780    29430.446293      0.000000  \n",
      "max    127063.506000   123016.650400      1.000000  \n"
     ]
    }
   ],
   "source": [
    "# Summary: Statistics of numerical variables\n",
    "print(\"Statistics summary of numerical variables :- \\n\", df.describe())"
   ]
  },
  {
   "cell_type": "markdown",
   "id": "7f187841",
   "metadata": {},
   "source": [
    "##### Here we can see that 'age_of_driver' and 'annual_income' columns are having outliers."
   ]
  },
  {
   "cell_type": "markdown",
   "id": "0085accc",
   "metadata": {},
   "source": [
    "## <font color='green'>2. Exploring Incorrect Data</font>\n",
    "##### Types of Incorrect data: Incomplete/Missing Data, Inconsistent Data, Duplicate Data, Intentional Data and Outliers."
   ]
  },
  {
   "cell_type": "markdown",
   "id": "bef847fc",
   "metadata": {},
   "source": [
    "### <font color='blue'>2.1. Identifying Outliers</font>\n",
    "##### An Outlier is that observation which is significantly different from all other observations."
   ]
  },
  {
   "cell_type": "code",
   "execution_count": 6,
   "id": "53a9c5ee",
   "metadata": {},
   "outputs": [
    {
     "data": {
      "text/plain": [
       "<AxesSubplot:>"
      ]
     },
     "execution_count": 6,
     "metadata": {},
     "output_type": "execute_result"
    },
    {
     "data": {
      "image/png": "[encoded data removed]",
      "text/plain": [
       "<Figure size 432x288 with 1 Axes>"
      ]
     },
     "metadata": {
      "needs_background": "light"
     },
     "output_type": "display_data"
    }
   ],
   "source": [
    "#2.1.1. Identifying Outliers in column 'age_of_driver'\n",
    "df.boxplot(column ='age_of_driver', return_type='axes')"
   ]
  },
  {
   "cell_type": "markdown",
   "id": "8cb662e5",
   "metadata": {},
   "source": [
    "##### Age of a person who is eligible to drive a vehicle is minimum 18 and maximum could be 70 or 80 but as in the graph indicates it is 229, 200, 133, 113 which is certainly not possible. Hence indicates outliers in 'age_of_driver'."
   ]
  },
  {
   "cell_type": "code",
   "execution_count": 7,
   "id": "14ff1ed0",
   "metadata": {},
   "outputs": [
    {
     "data": {
      "text/plain": [
       "<AxesSubplot:>"
      ]
     },
     "execution_count": 7,
     "metadata": {},
     "output_type": "execute_result"
    },
    {
     "data": {
      "image/png": "[encoded data removed]",
      "text/plain": [
       "<Figure size 432x288 with 1 Axes>"
      ]
     },
     "metadata": {
      "needs_background": "light"
     },
     "output_type": "display_data"
    }
   ],
   "source": [
    "#2.1.2. Identifying Outliers in column 'annual_income'\n",
    "df.boxplot(column ='annual_income', return_type='axes')"
   ]
  },
  {
   "cell_type": "markdown",
   "id": "3afd6db3",
   "metadata": {},
   "source": [
    "##### Annual income is always a positive quantity. But here it shows ‘-1’ which is certainly not possible. Hence indicates outliers in 'annual_income'."
   ]
  },
  {
   "cell_type": "markdown",
   "id": "34ca3110",
   "metadata": {},
   "source": [
    "### <font color='blue'>2.2. Identifying Missing or Incomplete Data</font>"
   ]
  },
  {
   "cell_type": "code",
   "execution_count": 8,
   "id": "560ed22d",
   "metadata": {},
   "outputs": [
    {
     "data": {
      "text/plain": [
       "claim_number                 0\n",
       "age_of_driver                0\n",
       "gender                       0\n",
       "marital_status               5\n",
       "safty_rating                 0\n",
       "annual_income                0\n",
       "high_education_ind           0\n",
       "address_change_ind           0\n",
       "living_status                0\n",
       "zip_code                     0\n",
       "claim_date                   0\n",
       "claim_day_of_week            0\n",
       "accident_site                0\n",
       "past_num_of_claims           0\n",
       "witness_present_ind        132\n",
       "liab_prct                    0\n",
       "channel                      0\n",
       "policy_report_filed_ind      0\n",
       "claim_est_payout            17\n",
       "age_of_vehicle               0\n",
       "vehicle_category             0\n",
       "vehicle_price                0\n",
       "vehicle_color                0\n",
       "vehicle_weight               0\n",
       "fraud                        0\n",
       "dtype: int64"
      ]
     },
     "execution_count": 8,
     "metadata": {},
     "output_type": "execute_result"
    }
   ],
   "source": [
    "df.isnull().sum()"
   ]
  },
  {
   "cell_type": "markdown",
   "id": "a7dedf52",
   "metadata": {},
   "source": [
    "##### Here (1) marital_status have 5, (2) witness_present_ind have 132 and (3) claim_est_payout have 17 missing values in the dataset."
   ]
  },
  {
   "cell_type": "code",
   "execution_count": 9,
   "id": "e0953a19",
   "metadata": {},
   "outputs": [
    {
     "data": {
      "text/plain": [
       "claim_number               False\n",
       "age_of_driver              False\n",
       "gender                     False\n",
       "marital_status              True\n",
       "safty_rating               False\n",
       "annual_income              False\n",
       "high_education_ind         False\n",
       "address_change_ind         False\n",
       "living_status              False\n",
       "zip_code                   False\n",
       "claim_date                 False\n",
       "claim_day_of_week          False\n",
       "accident_site              False\n",
       "past_num_of_claims         False\n",
       "witness_present_ind         True\n",
       "liab_prct                  False\n",
       "channel                    False\n",
       "policy_report_filed_ind    False\n",
       "claim_est_payout            True\n",
       "age_of_vehicle             False\n",
       "vehicle_category           False\n",
       "vehicle_price              False\n",
       "vehicle_color              False\n",
       "vehicle_weight             False\n",
       "fraud                      False\n",
       "dtype: bool"
      ]
     },
     "execution_count": 9,
     "metadata": {},
     "output_type": "execute_result"
    }
   ],
   "source": [
    "df.isnull().any() #True means having NAN values and False means No missing values"
   ]
  },
  {
   "cell_type": "markdown",
   "id": "811831eb",
   "metadata": {},
   "source": [
    "## <font color='green'>3. Handling Incorrect Values</font>"
   ]
  },
  {
   "cell_type": "markdown",
   "id": "5153a80c",
   "metadata": {},
   "source": [
    "### <font color='blue'>3.1. Removing Outliers</font>"
   ]
  },
  {
   "cell_type": "markdown",
   "id": "7e2f30b1",
   "metadata": {},
   "source": [
    "##### Sometimes outliers indicate a mistake in data collection. But other times, they can influence a data set, so it’s important to keep them to better understand the dataset. So, instead of removing those outliers I am replacing them with Median values."
   ]
  },
  {
   "cell_type": "code",
   "execution_count": 10,
   "id": "0bc33207",
   "metadata": {},
   "outputs": [],
   "source": [
    "df1 = df.copy() #to make copy of raw dataset"
   ]
  },
  {
   "cell_type": "markdown",
   "id": "67864c21",
   "metadata": {},
   "source": [
    "### <font color='blue'>3.2. Replacing Outlliers</font>"
   ]
  },
  {
   "cell_type": "code",
   "execution_count": 11,
   "id": "83a16647",
   "metadata": {},
   "outputs": [
    {
     "data": {
      "text/plain": [
       "43.0"
      ]
     },
     "execution_count": 11,
     "metadata": {},
     "output_type": "execute_result"
    }
   ],
   "source": [
    "#3.2.1. Finding the Median value for column 'age_of_driver'\n",
    "median_age_driver=df1['age_of_driver'].median()\n",
    "median_age_driver"
   ]
  },
  {
   "cell_type": "code",
   "execution_count": 12,
   "id": "f7889e66",
   "metadata": {},
   "outputs": [],
   "source": [
    "#3.2.2. Replacing Outliers in column 'age_of_driver' for ages above 90 year with Median value  \n",
    "df1['age_of_driver'] = np.where(df1['age_of_driver'] > 90.0, 43.0,df1['age_of_driver'])"
   ]
  },
  {
   "cell_type": "code",
   "execution_count": 13,
   "id": "16d1f793",
   "metadata": {},
   "outputs": [
    {
     "data": {
      "text/plain": [
       "<AxesSubplot:>"
      ]
     },
     "execution_count": 13,
     "metadata": {},
     "output_type": "execute_result"
    },
    {
     "data": {
      "image/png": "[encoded data removed]",
      "text/plain": [
       "<Figure size 432x288 with 1 Axes>"
      ]
     },
     "metadata": {
      "needs_background": "light"
     },
     "output_type": "display_data"
    }
   ],
   "source": [
    "#3.2.3. Cross-check Outliers for column 'age_of_driver' after removal of outliers\n",
    "df1.boxplot(column ='age_of_driver', return_type='axes')"
   ]
  },
  {
   "cell_type": "code",
   "execution_count": 14,
   "id": "733b399e",
   "metadata": {},
   "outputs": [
    {
     "data": {
      "text/plain": [
       "37610.0"
      ]
     },
     "execution_count": 14,
     "metadata": {},
     "output_type": "execute_result"
    }
   ],
   "source": [
    "#3.2.4. Finding the Median value for column 'annual_income'\n",
    "median_annual_income=df1['annual_income'].median()\n",
    "median_annual_income"
   ]
  },
  {
   "cell_type": "code",
   "execution_count": 15,
   "id": "4484bc95",
   "metadata": {},
   "outputs": [],
   "source": [
    "#3.2.5. Replacing Outliers in column 'annual_income' for income less than 10000 with Median value  \n",
    "df1['annual_income'] = np.where(df1['annual_income'] < 10000.0, 37610.0,df1['annual_income'])"
   ]
  },
  {
   "cell_type": "code",
   "execution_count": 16,
   "id": "d31924ed",
   "metadata": {},
   "outputs": [
    {
     "data": {
      "text/plain": [
       "<AxesSubplot:>"
      ]
     },
     "execution_count": 16,
     "metadata": {},
     "output_type": "execute_result"
    },
    {
     "data": {
      "image/png": "[encoded data removed]",
      "text/plain": [
       "<Figure size 432x288 with 1 Axes>"
      ]
     },
     "metadata": {
      "needs_background": "light"
     },
     "output_type": "display_data"
    }
   ],
   "source": [
    "#3.2.6. Cross-check Outliers for column 'annual_income' after removal of outliers\n",
    "df1.boxplot(column ='annual_income', return_type='axes')"
   ]
  },
  {
   "cell_type": "code",
   "execution_count": 17,
   "id": "ac515e20",
   "metadata": {},
   "outputs": [
    {
     "name": "stdout",
     "output_type": "stream",
     "text": [
      "Statistics summary of numerical variables after outliers removal:- \n",
      "        claim_number  age_of_driver  marital_status  safty_rating  \\\n",
      "count  17998.000000   17998.000000    17993.000000  17998.000000   \n",
      "mean   14970.601622      43.605178        0.712722     73.562951   \n",
      "std     8659.940765      11.659846        0.452505     15.346807   \n",
      "min        1.000000      18.000000        0.000000      1.000000   \n",
      "25%     7479.250000      35.000000        0.000000     65.000000   \n",
      "50%    14965.500000      43.000000        1.000000     76.000000   \n",
      "75%    22467.750000      51.000000        1.000000     85.000000   \n",
      "max    30000.000000      90.000000        1.000000    100.000000   \n",
      "\n",
      "       annual_income  high_education_ind  address_change_ind      zip_code  \\\n",
      "count   17998.000000        17998.000000        17998.000000  17998.000000   \n",
      "mean    37399.001667            0.699189            0.577286  49894.766030   \n",
      "std      2753.325082            0.458623            0.494004  29186.828369   \n",
      "min     28896.000000            0.000000            0.000000  15001.000000   \n",
      "25%     35555.000000            0.000000            0.000000  20111.000000   \n",
      "50%     37610.000000            1.000000            1.000000  50028.000000   \n",
      "75%     39318.000000            1.000000            1.000000  80038.000000   \n",
      "max     54333.000000            1.000000            1.000000  85083.000000   \n",
      "\n",
      "       past_num_of_claims  witness_present_ind     liab_prct  \\\n",
      "count        17998.000000         17866.000000  17998.000000   \n",
      "mean             0.505001             0.232677     49.423269   \n",
      "std              0.955504             0.422550     33.678470   \n",
      "min              0.000000             0.000000      0.000000   \n",
      "25%              0.000000             0.000000     17.000000   \n",
      "50%              0.000000             0.000000     50.000000   \n",
      "75%              1.000000             0.000000     81.000000   \n",
      "max              6.000000             1.000000    100.000000   \n",
      "\n",
      "       policy_report_filed_ind  claim_est_payout  age_of_vehicle  \\\n",
      "count             17998.000000      17981.000000    17998.000000   \n",
      "mean                  0.600678       4975.792083        5.034504   \n",
      "std                   0.489773       2215.706510        2.221716   \n",
      "min                   0.000000        282.639432        1.000000   \n",
      "25%                   0.000000       3337.029436        3.000000   \n",
      "50%                   1.000000       4668.796318        5.000000   \n",
      "75%                   1.000000       6255.901066        6.000000   \n",
      "max                   1.000000      17218.345010       16.000000   \n",
      "\n",
      "       vehicle_price  vehicle_weight         fraud  \n",
      "count   17998.000000    17998.000000  17998.000000  \n",
      "mean    23089.123114    23031.322385      0.156462  \n",
      "std     11988.429767    12052.385584      0.363303  \n",
      "min      2457.329316     2429.429302      0.000000  \n",
      "25%     14279.574850    14164.122133      0.000000  \n",
      "50%     20948.879250    20838.150260      0.000000  \n",
      "75%     29562.232780    29430.446293      0.000000  \n",
      "max    127063.506000   123016.650400      1.000000  \n"
     ]
    }
   ],
   "source": [
    "# Summary: Statistics of numerical variables after Outliers removal (replacement)\n",
    "print(\"Statistics summary of numerical variables after outliers removal:- \\n\", df1.describe())"
   ]
  },
  {
   "cell_type": "markdown",
   "id": "2cb2c459",
   "metadata": {},
   "source": [
    "### <font color='blue'>3.3. Replacing missing values with the Most Frequent value in categorical variables</font>"
   ]
  },
  {
   "cell_type": "code",
   "execution_count": 18,
   "id": "3fbce62f",
   "metadata": {},
   "outputs": [],
   "source": [
    "#3.3.1. Filling Missing Values in Column 'marital_status'\n",
    "most_frequent1=df1['marital_status'].value_counts().idxmax()  #Finding the most frequent value\n",
    "df1['marital_status'] = df1['marital_status'].fillna(value=most_frequent1) #Replacing NaN with most frequent value\n",
    "#most_frequent1"
   ]
  },
  {
   "cell_type": "code",
   "execution_count": 19,
   "id": "d9997f43",
   "metadata": {},
   "outputs": [],
   "source": [
    "#3.3.2. Filling Missing Values in Column 'witness_present_ind'\n",
    "most_frequent2=df1['witness_present_ind'].value_counts().idxmax()\n",
    "df1['witness_present_ind'] = df1['witness_present_ind'].fillna(value=most_frequent2)\n",
    "#most_frequent2"
   ]
  },
  {
   "cell_type": "markdown",
   "id": "ad02044b",
   "metadata": {},
   "source": [
    "### <font color='blue'>3.4. Replacing missing values with the Mean value in continuous variables</font>"
   ]
  },
  {
   "cell_type": "code",
   "execution_count": 20,
   "id": "abfa7dd7",
   "metadata": {},
   "outputs": [],
   "source": [
    "#3.4.1. Filling Missing Values in Column 'claim_est_payout'\n",
    "mean_value1=df1['claim_est_payout'].mean() #Finding the mean value\n",
    "df1['claim_est_payout'] = df1['claim_est_payout'].fillna(value=mean_value1) #Replacing NaNs with mean value\n",
    "#mean_value1"
   ]
  },
  {
   "cell_type": "markdown",
   "id": "950d97b8",
   "metadata": {},
   "source": [
    "### Now, we can compare both 'df' (original dataset) and 'df1' dataset."
   ]
  },
  {
   "cell_type": "code",
   "execution_count": 21,
   "id": "03da2da8",
   "metadata": {},
   "outputs": [
    {
     "data": {
      "text/plain": [
       "claim_number                 0\n",
       "age_of_driver                0\n",
       "gender                       0\n",
       "marital_status               5\n",
       "safty_rating                 0\n",
       "annual_income                0\n",
       "high_education_ind           0\n",
       "address_change_ind           0\n",
       "living_status                0\n",
       "zip_code                     0\n",
       "claim_date                   0\n",
       "claim_day_of_week            0\n",
       "accident_site                0\n",
       "past_num_of_claims           0\n",
       "witness_present_ind        132\n",
       "liab_prct                    0\n",
       "channel                      0\n",
       "policy_report_filed_ind      0\n",
       "claim_est_payout            17\n",
       "age_of_vehicle               0\n",
       "vehicle_category             0\n",
       "vehicle_price                0\n",
       "vehicle_color                0\n",
       "vehicle_weight               0\n",
       "fraud                        0\n",
       "dtype: int64"
      ]
     },
     "execution_count": 21,
     "metadata": {},
     "output_type": "execute_result"
    }
   ],
   "source": [
    "df.isnull().sum() #raw dataset"
   ]
  },
  {
   "cell_type": "code",
   "execution_count": 22,
   "id": "a5be4010",
   "metadata": {},
   "outputs": [
    {
     "data": {
      "text/plain": [
       "claim_number               0\n",
       "age_of_driver              0\n",
       "gender                     0\n",
       "marital_status             0\n",
       "safty_rating               0\n",
       "annual_income              0\n",
       "high_education_ind         0\n",
       "address_change_ind         0\n",
       "living_status              0\n",
       "zip_code                   0\n",
       "claim_date                 0\n",
       "claim_day_of_week          0\n",
       "accident_site              0\n",
       "past_num_of_claims         0\n",
       "witness_present_ind        0\n",
       "liab_prct                  0\n",
       "channel                    0\n",
       "policy_report_filed_ind    0\n",
       "claim_est_payout           0\n",
       "age_of_vehicle             0\n",
       "vehicle_category           0\n",
       "vehicle_price              0\n",
       "vehicle_color              0\n",
       "vehicle_weight             0\n",
       "fraud                      0\n",
       "dtype: int64"
      ]
     },
     "execution_count": 22,
     "metadata": {},
     "output_type": "execute_result"
    }
   ],
   "source": [
    "df1.isnull().sum() #cleaned dataset"
   ]
  },
  {
   "cell_type": "code",
   "execution_count": 23,
   "id": "d7393ba6",
   "metadata": {},
   "outputs": [
    {
     "data": {
      "text/html": [
       "<div>\n",
       "<style scoped>\n",
       "    .dataframe tbody tr th:only-of-type {\n",
       "        vertical-align: middle;\n",
       "    }\n",
       "\n",
       "    .dataframe tbody tr th {\n",
       "        vertical-align: top;\n",
       "    }\n",
       "\n",
       "    .dataframe thead th {\n",
       "        text-align: right;\n",
       "    }\n",
       "</style>\n",
       "<table border=\"1\" class=\"dataframe\">\n",
       "  <thead>\n",
       "    <tr style=\"text-align: right;\">\n",
       "      <th></th>\n",
       "      <th>claim_number</th>\n",
       "      <th>age_of_driver</th>\n",
       "      <th>marital_status</th>\n",
       "      <th>safty_rating</th>\n",
       "      <th>annual_income</th>\n",
       "      <th>high_education_ind</th>\n",
       "      <th>address_change_ind</th>\n",
       "      <th>zip_code</th>\n",
       "      <th>past_num_of_claims</th>\n",
       "      <th>witness_present_ind</th>\n",
       "      <th>liab_prct</th>\n",
       "      <th>policy_report_filed_ind</th>\n",
       "      <th>claim_est_payout</th>\n",
       "      <th>age_of_vehicle</th>\n",
       "      <th>vehicle_price</th>\n",
       "      <th>vehicle_weight</th>\n",
       "      <th>fraud</th>\n",
       "    </tr>\n",
       "  </thead>\n",
       "  <tbody>\n",
       "    <tr>\n",
       "      <th>count</th>\n",
       "      <td>17998.000000</td>\n",
       "      <td>17998.000000</td>\n",
       "      <td>17993.000000</td>\n",
       "      <td>17998.000000</td>\n",
       "      <td>17998.000000</td>\n",
       "      <td>17998.000000</td>\n",
       "      <td>17998.000000</td>\n",
       "      <td>17998.000000</td>\n",
       "      <td>17998.000000</td>\n",
       "      <td>17866.000000</td>\n",
       "      <td>17998.000000</td>\n",
       "      <td>17998.000000</td>\n",
       "      <td>17981.000000</td>\n",
       "      <td>17998.000000</td>\n",
       "      <td>17998.000000</td>\n",
       "      <td>17998.000000</td>\n",
       "      <td>17998.000000</td>\n",
       "    </tr>\n",
       "    <tr>\n",
       "      <th>mean</th>\n",
       "      <td>14970.601622</td>\n",
       "      <td>43.695466</td>\n",
       "      <td>0.712722</td>\n",
       "      <td>73.562951</td>\n",
       "      <td>37367.655684</td>\n",
       "      <td>0.699189</td>\n",
       "      <td>0.577286</td>\n",
       "      <td>49894.766030</td>\n",
       "      <td>0.505001</td>\n",
       "      <td>0.232677</td>\n",
       "      <td>49.423269</td>\n",
       "      <td>0.600678</td>\n",
       "      <td>4975.792083</td>\n",
       "      <td>5.034504</td>\n",
       "      <td>23089.123114</td>\n",
       "      <td>23031.322385</td>\n",
       "      <td>0.156462</td>\n",
       "    </tr>\n",
       "    <tr>\n",
       "      <th>std</th>\n",
       "      <td>8659.940765</td>\n",
       "      <td>11.959819</td>\n",
       "      <td>0.452505</td>\n",
       "      <td>15.346807</td>\n",
       "      <td>2957.297249</td>\n",
       "      <td>0.458623</td>\n",
       "      <td>0.494004</td>\n",
       "      <td>29186.828369</td>\n",
       "      <td>0.955504</td>\n",
       "      <td>0.422550</td>\n",
       "      <td>33.678470</td>\n",
       "      <td>0.489773</td>\n",
       "      <td>2215.706510</td>\n",
       "      <td>2.221716</td>\n",
       "      <td>11988.429767</td>\n",
       "      <td>12052.385584</td>\n",
       "      <td>0.363303</td>\n",
       "    </tr>\n",
       "    <tr>\n",
       "      <th>min</th>\n",
       "      <td>1.000000</td>\n",
       "      <td>18.000000</td>\n",
       "      <td>0.000000</td>\n",
       "      <td>1.000000</td>\n",
       "      <td>-1.000000</td>\n",
       "      <td>0.000000</td>\n",
       "      <td>0.000000</td>\n",
       "      <td>15001.000000</td>\n",
       "      <td>0.000000</td>\n",
       "      <td>0.000000</td>\n",
       "      <td>0.000000</td>\n",
       "      <td>0.000000</td>\n",
       "      <td>282.639432</td>\n",
       "      <td>1.000000</td>\n",
       "      <td>2457.329316</td>\n",
       "      <td>2429.429302</td>\n",
       "      <td>0.000000</td>\n",
       "    </tr>\n",
       "    <tr>\n",
       "      <th>25%</th>\n",
       "      <td>7479.250000</td>\n",
       "      <td>35.000000</td>\n",
       "      <td>0.000000</td>\n",
       "      <td>65.000000</td>\n",
       "      <td>35554.000000</td>\n",
       "      <td>0.000000</td>\n",
       "      <td>0.000000</td>\n",
       "      <td>20111.000000</td>\n",
       "      <td>0.000000</td>\n",
       "      <td>0.000000</td>\n",
       "      <td>17.000000</td>\n",
       "      <td>0.000000</td>\n",
       "      <td>3337.029436</td>\n",
       "      <td>3.000000</td>\n",
       "      <td>14279.574850</td>\n",
       "      <td>14164.122133</td>\n",
       "      <td>0.000000</td>\n",
       "    </tr>\n",
       "    <tr>\n",
       "      <th>50%</th>\n",
       "      <td>14965.500000</td>\n",
       "      <td>43.000000</td>\n",
       "      <td>1.000000</td>\n",
       "      <td>76.000000</td>\n",
       "      <td>37610.000000</td>\n",
       "      <td>1.000000</td>\n",
       "      <td>1.000000</td>\n",
       "      <td>50028.000000</td>\n",
       "      <td>0.000000</td>\n",
       "      <td>0.000000</td>\n",
       "      <td>50.000000</td>\n",
       "      <td>1.000000</td>\n",
       "      <td>4668.796318</td>\n",
       "      <td>5.000000</td>\n",
       "      <td>20948.879250</td>\n",
       "      <td>20838.150260</td>\n",
       "      <td>0.000000</td>\n",
       "    </tr>\n",
       "    <tr>\n",
       "      <th>75%</th>\n",
       "      <td>22467.750000</td>\n",
       "      <td>51.000000</td>\n",
       "      <td>1.000000</td>\n",
       "      <td>85.000000</td>\n",
       "      <td>39318.000000</td>\n",
       "      <td>1.000000</td>\n",
       "      <td>1.000000</td>\n",
       "      <td>80038.000000</td>\n",
       "      <td>1.000000</td>\n",
       "      <td>0.000000</td>\n",
       "      <td>81.000000</td>\n",
       "      <td>1.000000</td>\n",
       "      <td>6255.901066</td>\n",
       "      <td>6.000000</td>\n",
       "      <td>29562.232780</td>\n",
       "      <td>29430.446293</td>\n",
       "      <td>0.000000</td>\n",
       "    </tr>\n",
       "    <tr>\n",
       "      <th>max</th>\n",
       "      <td>30000.000000</td>\n",
       "      <td>229.000000</td>\n",
       "      <td>1.000000</td>\n",
       "      <td>100.000000</td>\n",
       "      <td>54333.000000</td>\n",
       "      <td>1.000000</td>\n",
       "      <td>1.000000</td>\n",
       "      <td>85083.000000</td>\n",
       "      <td>6.000000</td>\n",
       "      <td>1.000000</td>\n",
       "      <td>100.000000</td>\n",
       "      <td>1.000000</td>\n",
       "      <td>17218.345010</td>\n",
       "      <td>16.000000</td>\n",
       "      <td>127063.506000</td>\n",
       "      <td>123016.650400</td>\n",
       "      <td>1.000000</td>\n",
       "    </tr>\n",
       "  </tbody>\n",
       "</table>\n",
       "</div>"
      ],
      "text/plain": [
       "       claim_number  age_of_driver  marital_status  safty_rating  \\\n",
       "count  17998.000000   17998.000000    17993.000000  17998.000000   \n",
       "mean   14970.601622      43.695466        0.712722     73.562951   \n",
       "std     8659.940765      11.959819        0.452505     15.346807   \n",
       "min        1.000000      18.000000        0.000000      1.000000   \n",
       "25%     7479.250000      35.000000        0.000000     65.000000   \n",
       "50%    14965.500000      43.000000        1.000000     76.000000   \n",
       "75%    22467.750000      51.000000        1.000000     85.000000   \n",
       "max    30000.000000     229.000000        1.000000    100.000000   \n",
       "\n",
       "       annual_income  high_education_ind  address_change_ind      zip_code  \\\n",
       "count   17998.000000        17998.000000        17998.000000  17998.000000   \n",
       "mean    37367.655684            0.699189            0.577286  49894.766030   \n",
       "std      2957.297249            0.458623            0.494004  29186.828369   \n",
       "min        -1.000000            0.000000            0.000000  15001.000000   \n",
       "25%     35554.000000            0.000000            0.000000  20111.000000   \n",
       "50%     37610.000000            1.000000            1.000000  50028.000000   \n",
       "75%     39318.000000            1.000000            1.000000  80038.000000   \n",
       "max     54333.000000            1.000000            1.000000  85083.000000   \n",
       "\n",
       "       past_num_of_claims  witness_present_ind     liab_prct  \\\n",
       "count        17998.000000         17866.000000  17998.000000   \n",
       "mean             0.505001             0.232677     49.423269   \n",
       "std              0.955504             0.422550     33.678470   \n",
       "min              0.000000             0.000000      0.000000   \n",
       "25%              0.000000             0.000000     17.000000   \n",
       "50%              0.000000             0.000000     50.000000   \n",
       "75%              1.000000             0.000000     81.000000   \n",
       "max              6.000000             1.000000    100.000000   \n",
       "\n",
       "       policy_report_filed_ind  claim_est_payout  age_of_vehicle  \\\n",
       "count             17998.000000      17981.000000    17998.000000   \n",
       "mean                  0.600678       4975.792083        5.034504   \n",
       "std                   0.489773       2215.706510        2.221716   \n",
       "min                   0.000000        282.639432        1.000000   \n",
       "25%                   0.000000       3337.029436        3.000000   \n",
       "50%                   1.000000       4668.796318        5.000000   \n",
       "75%                   1.000000       6255.901066        6.000000   \n",
       "max                   1.000000      17218.345010       16.000000   \n",
       "\n",
       "       vehicle_price  vehicle_weight         fraud  \n",
       "count   17998.000000    17998.000000  17998.000000  \n",
       "mean    23089.123114    23031.322385      0.156462  \n",
       "std     11988.429767    12052.385584      0.363303  \n",
       "min      2457.329316     2429.429302      0.000000  \n",
       "25%     14279.574850    14164.122133      0.000000  \n",
       "50%     20948.879250    20838.150260      0.000000  \n",
       "75%     29562.232780    29430.446293      0.000000  \n",
       "max    127063.506000   123016.650400      1.000000  "
      ]
     },
     "execution_count": 23,
     "metadata": {},
     "output_type": "execute_result"
    }
   ],
   "source": [
    "df.describe() #raw dataset"
   ]
  },
  {
   "cell_type": "code",
   "execution_count": 24,
   "id": "0acae7d3",
   "metadata": {},
   "outputs": [
    {
     "data": {
      "text/html": [
       "<div>\n",
       "<style scoped>\n",
       "    .dataframe tbody tr th:only-of-type {\n",
       "        vertical-align: middle;\n",
       "    }\n",
       "\n",
       "    .dataframe tbody tr th {\n",
       "        vertical-align: top;\n",
       "    }\n",
       "\n",
       "    .dataframe thead th {\n",
       "        text-align: right;\n",
       "    }\n",
       "</style>\n",
       "<table border=\"1\" class=\"dataframe\">\n",
       "  <thead>\n",
       "    <tr style=\"text-align: right;\">\n",
       "      <th></th>\n",
       "      <th>claim_number</th>\n",
       "      <th>age_of_driver</th>\n",
       "      <th>marital_status</th>\n",
       "      <th>safty_rating</th>\n",
       "      <th>annual_income</th>\n",
       "      <th>high_education_ind</th>\n",
       "      <th>address_change_ind</th>\n",
       "      <th>zip_code</th>\n",
       "      <th>past_num_of_claims</th>\n",
       "      <th>witness_present_ind</th>\n",
       "      <th>liab_prct</th>\n",
       "      <th>policy_report_filed_ind</th>\n",
       "      <th>claim_est_payout</th>\n",
       "      <th>age_of_vehicle</th>\n",
       "      <th>vehicle_price</th>\n",
       "      <th>vehicle_weight</th>\n",
       "      <th>fraud</th>\n",
       "    </tr>\n",
       "  </thead>\n",
       "  <tbody>\n",
       "    <tr>\n",
       "      <th>count</th>\n",
       "      <td>17998.000000</td>\n",
       "      <td>17998.000000</td>\n",
       "      <td>17998.000000</td>\n",
       "      <td>17998.000000</td>\n",
       "      <td>17998.000000</td>\n",
       "      <td>17998.000000</td>\n",
       "      <td>17998.000000</td>\n",
       "      <td>17998.000000</td>\n",
       "      <td>17998.000000</td>\n",
       "      <td>17998.000000</td>\n",
       "      <td>17998.000000</td>\n",
       "      <td>17998.000000</td>\n",
       "      <td>17998.000000</td>\n",
       "      <td>17998.000000</td>\n",
       "      <td>17998.000000</td>\n",
       "      <td>17998.000000</td>\n",
       "      <td>17998.000000</td>\n",
       "    </tr>\n",
       "    <tr>\n",
       "      <th>mean</th>\n",
       "      <td>14970.601622</td>\n",
       "      <td>43.605178</td>\n",
       "      <td>0.712801</td>\n",
       "      <td>73.562951</td>\n",
       "      <td>37399.001667</td>\n",
       "      <td>0.699189</td>\n",
       "      <td>0.577286</td>\n",
       "      <td>49894.766030</td>\n",
       "      <td>0.505001</td>\n",
       "      <td>0.230970</td>\n",
       "      <td>49.423269</td>\n",
       "      <td>0.600678</td>\n",
       "      <td>4975.792083</td>\n",
       "      <td>5.034504</td>\n",
       "      <td>23089.123114</td>\n",
       "      <td>23031.322385</td>\n",
       "      <td>0.156462</td>\n",
       "    </tr>\n",
       "    <tr>\n",
       "      <th>std</th>\n",
       "      <td>8659.940765</td>\n",
       "      <td>11.659846</td>\n",
       "      <td>0.452468</td>\n",
       "      <td>15.346807</td>\n",
       "      <td>2753.325082</td>\n",
       "      <td>0.458623</td>\n",
       "      <td>0.494004</td>\n",
       "      <td>29186.828369</td>\n",
       "      <td>0.955504</td>\n",
       "      <td>0.421465</td>\n",
       "      <td>33.678470</td>\n",
       "      <td>0.489773</td>\n",
       "      <td>2214.659783</td>\n",
       "      <td>2.221716</td>\n",
       "      <td>11988.429767</td>\n",
       "      <td>12052.385584</td>\n",
       "      <td>0.363303</td>\n",
       "    </tr>\n",
       "    <tr>\n",
       "      <th>min</th>\n",
       "      <td>1.000000</td>\n",
       "      <td>18.000000</td>\n",
       "      <td>0.000000</td>\n",
       "      <td>1.000000</td>\n",
       "      <td>28896.000000</td>\n",
       "      <td>0.000000</td>\n",
       "      <td>0.000000</td>\n",
       "      <td>15001.000000</td>\n",
       "      <td>0.000000</td>\n",
       "      <td>0.000000</td>\n",
       "      <td>0.000000</td>\n",
       "      <td>0.000000</td>\n",
       "      <td>282.639432</td>\n",
       "      <td>1.000000</td>\n",
       "      <td>2457.329316</td>\n",
       "      <td>2429.429302</td>\n",
       "      <td>0.000000</td>\n",
       "    </tr>\n",
       "    <tr>\n",
       "      <th>25%</th>\n",
       "      <td>7479.250000</td>\n",
       "      <td>35.000000</td>\n",
       "      <td>0.000000</td>\n",
       "      <td>65.000000</td>\n",
       "      <td>35555.000000</td>\n",
       "      <td>0.000000</td>\n",
       "      <td>0.000000</td>\n",
       "      <td>20111.000000</td>\n",
       "      <td>0.000000</td>\n",
       "      <td>0.000000</td>\n",
       "      <td>17.000000</td>\n",
       "      <td>0.000000</td>\n",
       "      <td>3339.205052</td>\n",
       "      <td>3.000000</td>\n",
       "      <td>14279.574850</td>\n",
       "      <td>14164.122133</td>\n",
       "      <td>0.000000</td>\n",
       "    </tr>\n",
       "    <tr>\n",
       "      <th>50%</th>\n",
       "      <td>14965.500000</td>\n",
       "      <td>43.000000</td>\n",
       "      <td>1.000000</td>\n",
       "      <td>76.000000</td>\n",
       "      <td>37610.000000</td>\n",
       "      <td>1.000000</td>\n",
       "      <td>1.000000</td>\n",
       "      <td>50028.000000</td>\n",
       "      <td>0.000000</td>\n",
       "      <td>0.000000</td>\n",
       "      <td>50.000000</td>\n",
       "      <td>1.000000</td>\n",
       "      <td>4671.827763</td>\n",
       "      <td>5.000000</td>\n",
       "      <td>20948.879250</td>\n",
       "      <td>20838.150260</td>\n",
       "      <td>0.000000</td>\n",
       "    </tr>\n",
       "    <tr>\n",
       "      <th>75%</th>\n",
       "      <td>22467.750000</td>\n",
       "      <td>51.000000</td>\n",
       "      <td>1.000000</td>\n",
       "      <td>85.000000</td>\n",
       "      <td>39318.000000</td>\n",
       "      <td>1.000000</td>\n",
       "      <td>1.000000</td>\n",
       "      <td>80038.000000</td>\n",
       "      <td>1.000000</td>\n",
       "      <td>0.000000</td>\n",
       "      <td>81.000000</td>\n",
       "      <td>1.000000</td>\n",
       "      <td>6254.708103</td>\n",
       "      <td>6.000000</td>\n",
       "      <td>29562.232780</td>\n",
       "      <td>29430.446293</td>\n",
       "      <td>0.000000</td>\n",
       "    </tr>\n",
       "    <tr>\n",
       "      <th>max</th>\n",
       "      <td>30000.000000</td>\n",
       "      <td>90.000000</td>\n",
       "      <td>1.000000</td>\n",
       "      <td>100.000000</td>\n",
       "      <td>54333.000000</td>\n",
       "      <td>1.000000</td>\n",
       "      <td>1.000000</td>\n",
       "      <td>85083.000000</td>\n",
       "      <td>6.000000</td>\n",
       "      <td>1.000000</td>\n",
       "      <td>100.000000</td>\n",
       "      <td>1.000000</td>\n",
       "      <td>17218.345010</td>\n",
       "      <td>16.000000</td>\n",
       "      <td>127063.506000</td>\n",
       "      <td>123016.650400</td>\n",
       "      <td>1.000000</td>\n",
       "    </tr>\n",
       "  </tbody>\n",
       "</table>\n",
       "</div>"
      ],
      "text/plain": [
       "       claim_number  age_of_driver  marital_status  safty_rating  \\\n",
       "count  17998.000000   17998.000000    17998.000000  17998.000000   \n",
       "mean   14970.601622      43.605178        0.712801     73.562951   \n",
       "std     8659.940765      11.659846        0.452468     15.346807   \n",
       "min        1.000000      18.000000        0.000000      1.000000   \n",
       "25%     7479.250000      35.000000        0.000000     65.000000   \n",
       "50%    14965.500000      43.000000        1.000000     76.000000   \n",
       "75%    22467.750000      51.000000        1.000000     85.000000   \n",
       "max    30000.000000      90.000000        1.000000    100.000000   \n",
       "\n",
       "       annual_income  high_education_ind  address_change_ind      zip_code  \\\n",
       "count   17998.000000        17998.000000        17998.000000  17998.000000   \n",
       "mean    37399.001667            0.699189            0.577286  49894.766030   \n",
       "std      2753.325082            0.458623            0.494004  29186.828369   \n",
       "min     28896.000000            0.000000            0.000000  15001.000000   \n",
       "25%     35555.000000            0.000000            0.000000  20111.000000   \n",
       "50%     37610.000000            1.000000            1.000000  50028.000000   \n",
       "75%     39318.000000            1.000000            1.000000  80038.000000   \n",
       "max     54333.000000            1.000000            1.000000  85083.000000   \n",
       "\n",
       "       past_num_of_claims  witness_present_ind     liab_prct  \\\n",
       "count        17998.000000         17998.000000  17998.000000   \n",
       "mean             0.505001             0.230970     49.423269   \n",
       "std              0.955504             0.421465     33.678470   \n",
       "min              0.000000             0.000000      0.000000   \n",
       "25%              0.000000             0.000000     17.000000   \n",
       "50%              0.000000             0.000000     50.000000   \n",
       "75%              1.000000             0.000000     81.000000   \n",
       "max              6.000000             1.000000    100.000000   \n",
       "\n",
       "       policy_report_filed_ind  claim_est_payout  age_of_vehicle  \\\n",
       "count             17998.000000      17998.000000    17998.000000   \n",
       "mean                  0.600678       4975.792083        5.034504   \n",
       "std                   0.489773       2214.659783        2.221716   \n",
       "min                   0.000000        282.639432        1.000000   \n",
       "25%                   0.000000       3339.205052        3.000000   \n",
       "50%                   1.000000       4671.827763        5.000000   \n",
       "75%                   1.000000       6254.708103        6.000000   \n",
       "max                   1.000000      17218.345010       16.000000   \n",
       "\n",
       "       vehicle_price  vehicle_weight         fraud  \n",
       "count   17998.000000    17998.000000  17998.000000  \n",
       "mean    23089.123114    23031.322385      0.156462  \n",
       "std     11988.429767    12052.385584      0.363303  \n",
       "min      2457.329316     2429.429302      0.000000  \n",
       "25%     14279.574850    14164.122133      0.000000  \n",
       "50%     20948.879250    20838.150260      0.000000  \n",
       "75%     29562.232780    29430.446293      0.000000  \n",
       "max    127063.506000   123016.650400      1.000000  "
      ]
     },
     "execution_count": 24,
     "metadata": {},
     "output_type": "execute_result"
    }
   ],
   "source": [
    "df1.describe() #cleaned dataset"
   ]
  },
  {
   "cell_type": "code",
   "execution_count": 25,
   "id": "c967d3af",
   "metadata": {},
   "outputs": [],
   "source": [
    "#df1.to_csv('FC_training_data_cleaned.csv')"
   ]
  },
  {
   "cell_type": "markdown",
   "id": "5f9e23c8",
   "metadata": {},
   "source": [
    "##### There is no Inconsistent, Duplicate, and Intentional Data in the dataset.\n",
    "##### Now, this dataset is completely clean."
   ]
  }
 ],
 "metadata": {
  "kernelspec": {
   "display_name": "Python 3 (ipykernel)",
   "language": "python",
   "name": "python3"
  },
  "language_info": {
   "codemirror_mode": {
    "name": "ipython",
    "version": 3
   },
   "file_extension": ".py",
   "mimetype": "text/x-python",
   "name": "python",
   "nbconvert_exporter": "python",
   "pygments_lexer": "ipython3",
   "version": "3.8.8"
  }
 },
 "nbformat": 4,
 "nbformat_minor": 5
}
